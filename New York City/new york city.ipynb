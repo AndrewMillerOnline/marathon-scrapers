{
 "cells": [
  {
   "cell_type": "markdown",
   "metadata": {},
   "source": [
    "# New York City Scraper\n",
    "\n",
    "    Years: X - X\n",
    "    URL: https://results.nyrr.org/event/M{year}/finishers\n",
    "    \n",
    "    \n",
    "    "
   ]
  },
  {
   "cell_type": "code",
   "execution_count": 1,
   "metadata": {},
   "outputs": [],
   "source": [
    "import pandas as pd\n",
    "from urllib.request import urlopen\n",
    "from bs4 import BeautifulSoup\n",
    "from selenium import webdriver\n",
    "from selenium.webdriver.support import expected_conditions as EC\n",
    "from selenium.common.exceptions import ElementNotVisibleException, ElementNotSelectableException, NoSuchElementException, TimeoutException, UnexpectedAlertPresentException, StaleElementReferenceException\n",
    "from selenium.webdriver.common.by import By\n",
    "from selenium.webdriver.support.ui import WebDriverWait\n",
    "from selenium.webdriver.chrome.options import Options\n",
    "from selenium.webdriver.common.keys import Keys\n",
    "import time"
   ]
  },
  {
   "cell_type": "markdown",
   "metadata": {},
   "source": [
    "# Define helper methods"
   ]
  },
  {
   "cell_type": "code",
   "execution_count": 2,
   "metadata": {},
   "outputs": [],
   "source": [
    "# Parse a page of marathon finishers, adding the results to the master list\n",
    "def parse_page(html):\n",
    "    \n",
    "    soup = BeautifulSoup(html, 'html.parser')\n",
    "\n",
    "    page_finishers = soup.find_all('div','cmd-finisher ng-scope')\n",
    "\n",
    "    for finisher in page_finishers:\n",
    "        \n",
    "        name = finisher.find('div','name rms-grid-line ng-binding').get_text().strip()\n",
    "        \n",
    "        details = finisher.find('div', 'details rms-grid-line').find_all('span')\n",
    "        gender = details[0].get_text()[0:1]\n",
    "        age = details[0].get_text()[1:]\n",
    "        nationality = details[1].get_text()\n",
    "        bib_number = details[2].get_text()[4:]\n",
    "        \n",
    "        time_full = finisher.find('span', 'result right-floated-item long-text').get_text()[4:]\n",
    "        place = finisher.find('span', 'result right-floated-item mid-text').get_text()[5:]\n",
    "\n",
    "        result = {\n",
    "            \"place\" : place,\n",
    "            \"name\" : name,\n",
    "            \"gender\" : gender,\n",
    "            \"age\" : age,\n",
    "            \"nationality\" : nationality,\n",
    "            \"bib_number\" : bib_number,\n",
    "            \"time_full\" : time_full\n",
    "        }\n",
    "\n",
    "        masterResults.append(result)\n",
    "\n",
    "    time.sleep(0.25)"
   ]
  },
  {
   "cell_type": "code",
   "execution_count": 3,
   "metadata": {},
   "outputs": [],
   "source": [
    "def cleanup_and_save(year):\n",
    "    df_results = pd.DataFrame(masterResults)\n",
    "    \n",
    "    #add the event name\n",
    "    df_results['Race'] = 'New York City'\n",
    "    \n",
    "    #add the year\n",
    "    df_results['year'] = year\n",
    "    \n",
    "    df_results.drop_duplicates(inplace=True, ignore_index=True)\n",
    "    \n",
    "    #save to csv\n",
    "    df_results.to_csv(f'results-{year}.csv', index=False)\n",
    "    print(f\"Scraping complete.  Gathered {df_results.shape[0]} results\")"
   ]
  },
  {
   "cell_type": "markdown",
   "metadata": {},
   "source": [
    "# Do the scraping"
   ]
  },
  {
   "cell_type": "code",
   "execution_count": 6,
   "metadata": {},
   "outputs": [],
   "source": [
    "def try_do_scrape():\n",
    "    \n",
    "    has_more_pages = True\n",
    "    \n",
    "    while has_more_pages:\n",
    "        \n",
    "        try:\n",
    "            ## Last, find and click the next page button (using Keys.ENTER results in fewer errors than .click())\n",
    "            next_button = driver.find_element_by_xpath(\"//a[@class='button-load-more']\")\n",
    "            #next_button.send_keys(Keys.ENTER)\n",
    "            next_button.click()\n",
    "\n",
    "            ### Wait for the next button to become stale, meaning we've successfully navigated to the next page of results\n",
    "            ### This will throw a TimeoutException on the last page of results, since that page has no next button\n",
    "            ### We'll just catch the exception once, rather than checking the button's existance on every single page\n",
    "            #wait.until(EC.staleness_of(next_button))\n",
    "            time.sleep(0.25)\n",
    "        except:\n",
    "            has_more_pages = False\n",
    "            ## Send the table to parse_page\n",
    "            parse_page(driver.page_source)"
   ]
  },
  {
   "cell_type": "code",
   "execution_count": 32,
   "metadata": {},
   "outputs": [],
   "source": [
    "def load_results(place_start):\n",
    "    #open the advanced filter\n",
    "    driver.find_element_by_xpath(\"//div[@class='short-filter button-advanced-filter']\").click()\n",
    "    time.sleep(0.25)\n",
    "    \n",
    "    #find and click the Place select\n",
    "    place_select = driver.find_element_by_xpath(\"//select[@ng-model='overallPlaceCompareOption']\")\n",
    "    place_select.click()\n",
    "    \n",
    "    #find and click the 'Greater than' option\n",
    "    place_select.find_elements_by_xpath(\"//select[@ng-model='overallPlaceCompareOption']/option\")[2].click()\n",
    "    \n",
    "    #enter starting place\n",
    "    place_input = driver.find_element_by_xpath(\"//input[@ng-model='overallPlace']\")\n",
    "    place_input.send_keys(place_start)\n",
    "    \n",
    "    #find and click 'Apply' button\n",
    "    driver.find_element_by_xpath(\"//a[text()='Apply']\").click()"
   ]
  },
  {
   "cell_type": "code",
   "execution_count": 10,
   "metadata": {},
   "outputs": [],
   "source": [
    "##########################\n",
    "#####   CHOOSE YEAR   ####\n",
    "##########################\n",
    "year = '2019'\n",
    "\n",
    "\n",
    "#initialize the WebDriver\n",
    "DRIVER_PATH = 'C:/dev/chromedriver.exe'\n",
    "options = Options()\n",
    "options.add_argument(\"--window-size=1920,1200\")\n",
    "driver = webdriver.Chrome(options=options, executable_path=DRIVER_PATH)\n",
    "\n",
    "#Open the results page\n",
    "driver.get(f'https://results.nyrr.org/event/M{year}/finishers')\n",
    "\n",
    "#Give the page a second to load\n",
    "time.sleep(1)  \n",
    "\n",
    "#Create a list to store the results\n",
    "masterResults = []\n",
    "\n",
    "#Change to narrow view\n",
    "driver.find_element_by_xpath(\"//span[@class='grid-row-btn narrow-row-icon']\").click()\n",
    "\n",
    "\n",
    "##########\n",
    "## TODO ##\n",
    "# 1: Find the total number of runners\n",
    "# 2: load_results(place_start, place_end)\n",
    "# 3: go directly to starting url: https://results.nyrr.org/event/M2019/finishers#page=1&opf={starting_index}\n",
    "# 4: click to the end\n",
    "# 5: load results into dataframe\n",
    "# 6: combine all dataframes\n",
    "\n",
    "#try_do_scrape()\n",
    "        \n",
    "#cleanup_and_save(year)"
   ]
  },
  {
   "cell_type": "code",
   "execution_count": 33,
   "metadata": {},
   "outputs": [],
   "source": [
    "load_results('500')"
   ]
  }
 ],
 "metadata": {
  "kernelspec": {
   "display_name": "Python 3",
   "language": "python",
   "name": "python3"
  },
  "language_info": {
   "codemirror_mode": {
    "name": "ipython",
    "version": 3
   },
   "file_extension": ".py",
   "mimetype": "text/x-python",
   "name": "python",
   "nbconvert_exporter": "python",
   "pygments_lexer": "ipython3",
   "version": "3.8.5"
  }
 },
 "nbformat": 4,
 "nbformat_minor": 4
}
